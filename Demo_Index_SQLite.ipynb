{
  "nbformat": 4,
  "nbformat_minor": 0,
  "metadata": {
    "colab": {
      "provenance": [],
      "include_colab_link": true
    },
    "kernelspec": {
      "name": "python3",
      "display_name": "Python 3"
    },
    "language_info": {
      "name": "python"
    }
  },
  "cells": [
    {
      "cell_type": "markdown",
      "metadata": {
        "id": "view-in-github",
        "colab_type": "text"
      },
      "source": [
        "<a href=\"https://colab.research.google.com/github/ErsyaHasby/Belajar-database/blob/main/Demo_Index_SQLite.ipynb\" target=\"_parent\"><img src=\"https://colab.research.google.com/assets/colab-badge.svg\" alt=\"Open In Colab\"/></a>"
      ]
    },
    {
      "cell_type": "code",
      "execution_count": null,
      "metadata": {
        "id": "qejNS6T1A_c_"
      },
      "outputs": [],
      "source": [
        "import sqlite3\n",
        "import time\n",
        "import os\n",
        "import psutil\n",
        "import matplotlib.pyplot as plt"
      ]
    },
    {
      "cell_type": "code",
      "source": [
        "# --- Helper: cek penggunaan memori ---\n",
        "def show_memory_usage():\n",
        "    process = psutil.Process(os.getpid())\n",
        "    mem = process.memory_info().rss / (1024 * 1024)  # MB\n",
        "    print(f\"Memory used: {mem:.2f} MB\")"
      ],
      "metadata": {
        "id": "-8s2j_xWCgg-"
      },
      "execution_count": null,
      "outputs": []
    },
    {
      "cell_type": "code",
      "source": [
        "# --- 1. Buat database di file (disk) ---\n",
        "db_name = \"test_db.sqlite\"\n",
        "if os.path.exists(db_name):\n",
        "    os.remove(db_name)  # hapus kalau sudah ada sebelumnya\n",
        "\n",
        "conn = sqlite3.connect(db_name)\n",
        "cursor = conn.cursor()"
      ],
      "metadata": {
        "id": "zQGHBlWUBKiV"
      },
      "execution_count": null,
      "outputs": []
    },
    {
      "cell_type": "code",
      "source": [
        "# --- 2. Buat tabel & isi data besar ---\n",
        "cursor.execute(\"CREATE TABLE users (id INTEGER PRIMARY KEY, name TEXT, age INTEGER)\")\n",
        "conn.commit()\n",
        "\n",
        "print(\"Mengisi data besar (200k baris)...\")\n",
        "cursor.executemany(\n",
        "    \"INSERT INTO users (name, age) VALUES (?, ?)\",\n",
        "    [(f\"user_{i}\", i % 100) for i in range(200000)]  # 200 ribu data\n",
        ")\n",
        "conn.commit()\n",
        "print(\"✅ Database selesai dibuat.\")"
      ],
      "metadata": {
        "colab": {
          "base_uri": "https://localhost:8080/"
        },
        "id": "LktA28z4BPSb",
        "outputId": "49a363eb-a8a7-4112-d786-d475da179e5a"
      },
      "execution_count": null,
      "outputs": [
        {
          "output_type": "stream",
          "name": "stdout",
          "text": [
            "Mengisi data besar (200k baris)...\n",
            "✅ Database selesai dibuat.\n"
          ]
        }
      ]
    },
    {
      "cell_type": "code",
      "source": [
        "# Simpan hasil waktu eksekusi\n",
        "times = {}"
      ],
      "metadata": {
        "id": "xwYICB6RBbXF"
      },
      "execution_count": null,
      "outputs": []
    },
    {
      "cell_type": "code",
      "source": [
        "# --- 3. Query tanpa index ---\n",
        "show_memory_usage()\n",
        "start = time.time()\n",
        "cursor.execute(\"SELECT * FROM users WHERE age = 50\")\n",
        "rows = cursor.fetchall()\n",
        "end = time.time()\n",
        "times[\"Tanpa Index\"] = end - start\n",
        "print(f\"Query tanpa index: {end - start:.4f} detik, hasil {len(rows)} baris\")\n",
        "show_memory_usage()"
      ],
      "metadata": {
        "colab": {
          "base_uri": "https://localhost:8080/"
        },
        "id": "RkbDQ8rsBe6E",
        "outputId": "5f945042-859f-4595-edf2-9f99c8a4966e"
      },
      "execution_count": null,
      "outputs": [
        {
          "output_type": "stream",
          "name": "stdout",
          "text": [
            "Memory used: 100.98 MB\n",
            "Query tanpa index: 0.0164 detik, hasil 2000 baris\n",
            "Memory used: 100.98 MB\n"
          ]
        }
      ]
    },
    {
      "cell_type": "code",
      "source": [
        "# --- 4. Tambahkan index ---\n",
        "cursor.execute(\"CREATE INDEX idx_age ON users(age)\")\n",
        "conn.commit()\n",
        "\n",
        "# Query dengan index\n",
        "start = time.time()\n",
        "cursor.execute(\"SELECT * FROM users WHERE age = 50\")\n",
        "rows = cursor.fetchall()\n",
        "end = time.time()\n",
        "times[\"Dengan Index\"] = end - start\n",
        "print(f\"Query dengan index: {end - start:.6f} detik, hasil {len(rows)} baris\")\n",
        "show_memory_usage()"
      ],
      "metadata": {
        "colab": {
          "base_uri": "https://localhost:8080/"
        },
        "id": "Uo1omUv7BkcW",
        "outputId": "085153bd-13da-4063-a627-9764f87a8db5"
      },
      "execution_count": null,
      "outputs": [
        {
          "output_type": "stream",
          "name": "stdout",
          "text": [
            "Query dengan index: 0.008798 detik, hasil 2000 baris\n",
            "Memory used: 102.43 MB\n"
          ]
        }
      ]
    },
    {
      "cell_type": "code",
      "source": [
        "# --- 5. Query berulang (cache di RAM) ---\n",
        "cached_times = []\n",
        "for i in range(3):\n",
        "    start = time.time()\n",
        "    cursor.execute(\"SELECT * FROM users WHERE age = 50\")\n",
        "    rows = cursor.fetchall()\n",
        "    end = time.time()\n",
        "    duration = end - start\n",
        "    cached_times.append(duration)\n",
        "    print(f\"Query ke-{i+1} (cached): {duration:.6f} detik\")\n",
        "\n",
        "times[\"Cached (avg)\"] = sum(cached_times) / len(cached_times)\n",
        "\n",
        "conn.close()"
      ],
      "metadata": {
        "colab": {
          "base_uri": "https://localhost:8080/"
        },
        "id": "Ai2MxscRB7Bt",
        "outputId": "d27e5e7a-9459-4972-b9fb-aae99e4ed955"
      },
      "execution_count": null,
      "outputs": [
        {
          "output_type": "stream",
          "name": "stdout",
          "text": [
            "Query ke-1 (cached): 0.007050 detik\n",
            "Query ke-2 (cached): 0.004631 detik\n",
            "Query ke-3 (cached): 0.004161 detik\n"
          ]
        }
      ]
    },
    {
      "cell_type": "code",
      "source": [
        "# --- 6. Visualisasi ---\n",
        "labels = list(times.keys())\n",
        "values = list(times.values())\n",
        "\n",
        "plt.figure(figsize=(8,5))\n",
        "plt.bar(labels, values, color=['red', 'blue', 'green'])\n",
        "plt.ylabel(\"Waktu (detik)\")\n",
        "plt.title(\"Perbandingan Waktu Query: Tanpa Index vs Dengan Index vs Cached\")\n",
        "plt.show()"
      ],
      "metadata": {
        "colab": {
          "base_uri": "https://localhost:8080/",
          "height": 468
        },
        "id": "Cm-idmhoCVxP",
        "outputId": "7628c005-7653-4d00-a705-ec0d99c3d97a"
      },
      "execution_count": null,
      "outputs": [
        {
          "output_type": "display_data",
          "data": {
            "text/plain": [
              "<Figure size 800x500 with 1 Axes>"
            ],
            "image/png": "[encoded data removed]"
          },
          "metadata": {}
        }
      ]
    }
  ]
}