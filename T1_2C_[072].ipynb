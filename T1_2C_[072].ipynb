{
  "nbformat": 4,
  "nbformat_minor": 0,
  "metadata": {
    "colab": {
      "provenance": []
    },
    "kernelspec": {
      "name": "python3",
      "display_name": "Python 3"
    },
    "language_info": {
      "name": "python"
    }
  },
  "cells": [
    {
      "cell_type": "code",
      "execution_count": 74,
      "metadata": {
        "colab": {
          "base_uri": "https://localhost:8080/"
        },
        "id": "WmOHqQqAsjPm",
        "outputId": "f05e1cb3-c62c-4b00-cbee-46ea9ee0efcc"
      },
      "outputs": [
        {
          "output_type": "stream",
          "name": "stdout",
          "text": [
            "Mounted at /content/drive\n"
          ]
        }
      ],
      "source": [
        "import csv\n",
        "from google.colab import drive\n",
        "drive.mount(\"/content/drive\", force_remount=True)"
      ]
    },
    {
      "cell_type": "code",
      "source": [
        "csv_path = '/content/drive/MyDrive/Colab Notebooks/oracle-hr-csv/'"
      ],
      "metadata": {
        "id": "_k2Yq0cLtid7"
      },
      "execution_count": 75,
      "outputs": []
    },
    {
      "cell_type": "code",
      "source": [
        "def read_file(csv_file_name):\n",
        "  with open(csv_path + csv_file_name, mode='r') as csv_file:\n",
        "      csv_reader = csv.reader(csv_file, delimiter=',')\n",
        "      line_count = 0\n",
        "      for row in csv_reader:\n",
        "          if line_count == 0:\n",
        "              print(f'Column names:')\n",
        "          print(f'{row[0]}, {row[1]}, {row[2]}')\n",
        "          line_count += 1\n",
        "      print(f'Processed {line_count} lines include header.')\n",
        "  csv_file.close()"
      ],
      "metadata": {
        "id": "ABEooNdQt-9E"
      },
      "execution_count": 76,
      "outputs": []
    },
    {
      "cell_type": "code",
      "source": [
        "read_file('countries.csv')"
      ],
      "metadata": {
        "colab": {
          "base_uri": "https://localhost:8080/"
        },
        "id": "5k9b_HjluRZZ",
        "outputId": "e488e1ec-345d-4639-96ed-74a2310e1d1d"
      },
      "execution_count": 77,
      "outputs": [
        {
          "output_type": "stream",
          "name": "stdout",
          "text": [
            "Column names:\n",
            "country_id, country_name, region_id\n",
            "AR, Argentina, 2\n",
            "AU, Australia, 3\n",
            "BE, Belgium, 1\n",
            "BR, Brazil, 2\n",
            "CA, Canada, 2\n",
            "CH, Switzerland, 1\n",
            "CN, China, 3\n",
            "DE, Germany, 1\n",
            "DK, Denmark, 1\n",
            "EG, Egypt, 4\n",
            "FR, France, 1\n",
            "IL, Israel, 4\n",
            "IN, India, 3\n",
            "IT, Italy, 1\n",
            "JP, Japan, 3\n",
            "KW, Kuwait, 4\n",
            "ML, Malaysia, 3\n",
            "MX, Mexico, 2\n",
            "NG, Nigeria, 4\n",
            "NL, Netherlands, 1\n",
            "SG, Singapore, 3\n",
            "UK, 'United Kingdom', 1\n",
            "US, 'United States of America', 2\n",
            "ZM, Zambia, 4\n",
            "ZW, Zimbabwe, 4\n",
            "Processed 26 lines include header.\n"
          ]
        }
      ]
    },
    {
      "cell_type": "code",
      "source": [
        "def read_file(csv_file_name):\n",
        "  with open(csv_path + csv_file_name, mode='r') as csv_file:\n",
        "      csv_reader = csv.reader(csv_file, delimiter=',')\n",
        "      line_count = 0\n",
        "      for row in csv_reader:\n",
        "          if line_count == 0:\n",
        "              print(f'Column names:')\n",
        "          print(\", \".join(row))\n",
        "          line_count += 1\n",
        "      print(f'Processed {line_count} lines include header.')\n",
        "  csv_file.close()"
      ],
      "metadata": {
        "id": "raRJ-vs2wwg8"
      },
      "execution_count": 78,
      "outputs": []
    },
    {
      "cell_type": "code",
      "source": [
        "read_file('regions.csv')"
      ],
      "metadata": {
        "colab": {
          "base_uri": "https://localhost:8080/"
        },
        "id": "o6F2PXzDyGw-",
        "outputId": "2ac59ef9-86a5-4b1a-da2e-af4d7194fe92"
      },
      "execution_count": 79,
      "outputs": [
        {
          "output_type": "stream",
          "name": "stdout",
          "text": [
            "Column names:\n",
            "region_id, region_name\n",
            "1, Europe\n",
            "2, Americas\n",
            "3, Asia\n",
            "4, 'Middle East and Africa'\n",
            "Processed 5 lines include header.\n"
          ]
        }
      ]
    },
    {
      "cell_type": "code",
      "source": [
        "read_file('employees.csv')"
      ],
      "metadata": {
        "colab": {
          "base_uri": "https://localhost:8080/"
        },
        "id": "uydYaocRzA-3",
        "outputId": "a5f52bd1-3664-49a2-deeb-a030c29b3ef9"
      },
      "execution_count": 80,
      "outputs": [
        {
          "output_type": "stream",
          "name": "stdout",
          "text": [
            "Column names:\n",
            "employee_id, first_name, last_name, email, phone_number, hire_date, job_id, salary, commission_pct, manager_id, department_id\n",
            "100, Steven, King, SKING, 515.123.4567, 2003-06-17, AD_PRES, 24000, NULL, NULL, 90\n",
            "101, Neena, Kochhar, NKOCHHAR, 515.123.4568, 2005-09-21, AD_VP, 17000, NULL, 100, 90\n",
            "102, Lex, 'De Haan', LDEHAAN, 515.123.4569, 2001-01-13, AD_VP, 17000, NULL, 100, 90\n",
            "103, Alexander, Hunold, AHUNOLD, 590.423.4567, 2006-01-03, IT_PROG, 9000, NULL, 102, 60\n",
            "104, Bruce, Ernst, BERNST, 590.423.4568, 2007-05-21, IT_PROG, 6000, NULL, 103, 60\n",
            "105, David, Austin, DAUSTIN, 590.423.4569, 2005-06-25, IT_PROG, 4800, NULL, 103, 60\n",
            "106, Valli, Pataballa, VPATABAL, 590.423.4560, 2006-02-05, IT_PROG, 4800, NULL, 103, 60\n",
            "107, Diana, Lorentz, DLORENTZ, 590.423.5567, 2007-02-07, IT_PROG, 4200, NULL, 103, 60\n",
            "108, Nancy, Greenberg, NGREENBE, 515.124.4569, 2002-08-17, FI_MGR, 12008, NULL, 101, 100\n",
            "109, Daniel, Faviet, DFAVIET, 515.124.4169, 2002-08-16, FI_ACCOUNT, 9000, NULL, 108, 100\n",
            "110, John, Chen, JCHEN, 515.124.4269, 2005-09-28, FI_ACCOUNT, 8200, NULL, 108, 100\n",
            "111, Ismael, Sciarra, ISCIARRA, 515.124.4369, 2005-09-30, FI_ACCOUNT, 7700, NULL, 108, 100\n",
            "112, 'Jose Manuel', Urman, JMURMAN, 515.124.4469, 2006-03-07, FI_ACCOUNT, 7800, NULL, 108, 100\n",
            "113, Luis, Popp, LPOPP, 515.124.4567, 2007-12-07, FI_ACCOUNT, 6900, NULL, 108, 100\n",
            "114, Den, Raphaely, DRAPHEAL, 515.127.4561, 2002-12-07, PU_MAN, 11000, NULL, 100, 30\n",
            "115, Alexander, Khoo, AKHOO, 515.127.4562, 2003-05-18, PU_CLERK, 3100, NULL, 114, 30\n",
            "116, Shelli, Baida, SBAIDA, 515.127.4563, 2005-12-24, PU_CLERK, 2900, NULL, 114, 30\n",
            "117, Sigal, Tobias, STOBIAS, 515.127.4564, 2005-07-24, PU_CLERK, 2800, NULL, 114, 30\n",
            "118, Guy, Himuro, GHIMURO, 515.127.4565, 2006-11-15, PU_CLERK, 2600, NULL, 114, 30\n",
            "119, Karen, Colmenares, KCOLMENA, 515.127.4566, 2007-08-10, PU_CLERK, 2500, NULL, 114, 30\n",
            "120, Matthew, Weiss, MWEISS, 650.123.1234, 2004-07-18, ST_MAN, 8000, NULL, 100, 50\n",
            "121, Adam, Fripp, AFRIPP, 650.123.2234, 2005-04-10, ST_MAN, 8200, NULL, 100, 50\n",
            "122, Payam, Kaufling, PKAUFLIN, 650.123.3234, 2003-05-01, ST_MAN, 7900, NULL, 100, 50\n",
            "123, Shanta, Vollman, SVOLLMAN, 650.123.4234, 2005-10-10, ST_MAN, 6500, NULL, 100, 50\n",
            "124, Kevin, Mourgos, KMOURGOS, 650.123.5234, 2007-11-16, ST_MAN, 5800, NULL, 100, 50\n",
            "125, Julia, Nayer, JNAYER, 650.124.1214, 2005-07-16, ST_CLERK, 3200, NULL, 120, 50\n",
            "126, Irene, Mikkilineni, IMIKKILI, 650.124.1224, 2006-09-28, ST_CLERK, 2700, NULL, 120, 50\n",
            "127, James, Landry, JLANDRY, 650.124.1334, 2007-01-14, ST_CLERK, 2400, NULL, 120, 50\n",
            "128, Steven, Markle, SMARKLE, 650.124.1434, 2008-03-08, ST_CLERK, 2200, NULL, 120, 50\n",
            "129, Laura, Bissot, LBISSOT, 650.124.5234, 2005-08-20, ST_CLERK, 3300, NULL, 121, 50\n",
            "130, Mozhe, Atkinson, MATKINSO, 650.124.6234, 2005-10-30, ST_CLERK, 2800, NULL, 121, 50\n",
            "131, James, Marlow, JAMRLOW, 650.124.7234, 2005-02-16, ST_CLERK, 2500, NULL, 121, 50\n",
            "132, TJ, Olson, TJOLSON, 650.124.8234, 2007-04-10, ST_CLERK, 2100, NULL, 121, 50\n",
            "133, Jason, Mallin, JMALLIN, 650.127.1934, 2004-06-14, ST_CLERK, 3300, NULL, 122, 50\n",
            "134, Michael, Rogers, MROGERS, 650.127.1834, 2006-08-26, ST_CLERK, 2900, NULL, 122, 50\n",
            "135, Ki, Gee, KGEE, 650.127.1734, 2007-12-12, ST_CLERK, 2400, NULL, 122, 50\n",
            "136, Hazel, Philtanker, HPHILTAN, 650.127.1634, 2008-02-06, ST_CLERK, 2200, NULL, 122, 50\n",
            "137, Renske, Ladwig, RLADWIG, 650.121.1234, 2003-07-14, ST_CLERK, 3600, NULL, 123, 50\n",
            "138, Stephen, Stiles, SSTILES, 650.121.2034, 2005-10-26, ST_CLERK, 3200, NULL, 123, 50\n",
            "139, John, Seo, JSEO, 650.121.2019, 2006-02-12, ST_CLERK, 2700, NULL, 123, 50\n",
            "140, Joshua, Patel, JPATEL, 650.121.1834, 2006-04-06, ST_CLERK, 2500, NULL, 123, 50\n",
            "141, Trenna, Rajs, TRAJS, 650.121.8009, 2003-10-17, ST_CLERK, 3500, NULL, 124, 50\n",
            "142, Curtis, Davies, CDAVIES, 650.121.2994, 2005-01-29, ST_CLERK, 3100, NULL, 124, 50\n",
            "143, Randall, Matos, RMATOS, 650.121.2874, 2006-03-15, ST_CLERK, 2600, NULL, 124, 50\n",
            "144, Peter, Vargas, PVARGAS, 650.121.2004, 2006-07-09, ST_CLERK, 2500, NULL, 124, 50\n",
            "145, John, Russell, JRUSSEL, 011.44.1344.429268, 2004-10-01, SA_MAN, 14000, 0.4, 100, 80\n",
            "146, Karen, Partners, KPARTNER, 011.44.1344.467268, 2005-01-05, SA_MAN, 13500, 0.3, 100, 80\n",
            "147, Alberto, Errazuriz, AERRAZUR, 011.44.1344.429278, 2005-03-10, SA_MAN, 12000, 0.3, 100, 80\n",
            "148, Gerald, Cambrault, GCAMBRAU, 011.44.1344.619268, 2007-10-15, SA_MAN, 11000, 0.3, 100, 80\n",
            "149, Eleni, Zlotkey, EZLOTKEY, 011.44.1344.429018, 2008-01-29, SA_MAN, 10500, 0.2, 100, 80\n",
            "150, Peter, Tucker, PTUCKER, 011.44.1344.129268, 2005-01-30, SA_REP, 10000, 0.3, 145, 80\n",
            "151, David, Bernstein, DBERNSTE, 011.44.1344.345268, 2005-03-24, SA_REP, 9500, 0.25, 145, 80\n",
            "152, Peter, Hall, PHALL, 011.44.1344.478968, 2005-08-20, SA_REP, 9000, 0.25, 145, 80\n",
            "153, Christopher, Olsen, COLSEN, 011.44.1344.498718, 2006-03-30, SA_REP, 8000, 0.2, 145, 80\n",
            "154, Nanette, Cambrault, NCAMBRAU, 011.44.1344.987668, 2006-12-09, SA_REP, 7500, 0.2, 145, 80\n",
            "155, Oliver, Tuvault, OTUVAULT, 011.44.1344.486508, 2007-11-23, SA_REP, 7000, 0.15, 145, 80\n",
            "156, Janette, King, JKING, 011.44.1345.429268, 2004-01-30, SA_REP, 10000, 0.35, 146, 80\n",
            "157, Patrick, Sully, PSULLY, 011.44.1345.929268, 2004-03-04, SA_REP, 9500, 0.35, 146, 80\n",
            "158, Allan, McEwen, AMCEWEN, 011.44.1345.829268, 2004-08-01, SA_REP, 9000, 0.35, 146, 80\n",
            "159, Lindsey, Smith, LSMITH, 011.44.1345.729268, 2005-03-10, SA_REP, 8000, 0.3, 146, 80\n",
            "160, Louise, Doran, LDORAN, 011.44.1345.629268, 2005-12-15, SA_REP, 7500, 0.3, 146, 80\n",
            "161, Sarath, Sewall, SSEWALL, 011.44.1345.529268, 2006-11-03, SA_REP, 7000, 0.25, 146, 80\n",
            "162, Clara, Vishney, CVISHNEY, 011.44.1346.129268, 2005-11-11, SA_REP, 10500, 0.25, 147, 80\n",
            "163, Danielle, Greene, DGREENE, 011.44.1346.229268, 2007-03-19, SA_REP, 9500, 0.15, 147, 80\n",
            "164, Mattea, Marvins, MMARVINS, 011.44.1346.329268, 2008-01-24, SA_REP, 7200, 0.1, 147, 80\n",
            "165, David, Lee, DLEE, 011.44.1346.529268, 2008-02-23, SA_REP, 6800, 0.1, 147, 80\n",
            "166, Sundar, Ande, SANDE, 011.44.1346.629268, 2008-03-24, SA_REP, 6400, 0.1, 147, 80\n",
            "167, Amit, Banda, ABANDA, 011.44.1346.729268, 2008-04-21, SA_REP, 6200, 0.1, 147, 80\n",
            "168, Lisa, Ozer, LOZER, 011.44.1343.929268, 2005-03-11, SA_REP, 11500, 0.25, 148, 80\n",
            "169, Harrison, Bloom, HBLOOM, 011.44.1343.829268, 2006-03-23, SA_REP, 10000, 0.2, 148, 80\n",
            "170, Tayler, Fox, TFOX, 011.44.1343.729268, 2006-01-24, SA_REP, 9600, 0.2, 148, 80\n",
            "171, William, Smith, WSMITH, 011.44.1343.629268, 2007-02-23, SA_REP, 7400, 0.15, 148, 80\n",
            "172, Elizabeth, Bates, EBATES, 011.44.1343.529268, 2007-03-24, SA_REP, 7300, 0.15, 148, 80\n",
            "173, Sundita, Kumar, SKUMAR, 011.44.1343.329268, 2008-04-21, SA_REP, 6100, 0.1, 148, 80\n",
            "174, Ellen, Abel, EABEL, 011.44.1644.429267, 2004-05-11, SA_REP, 11000, 0.3, 149, 80\n",
            "175, Alyssa, Hutton, AHUTTON, 011.44.1644.429266, 2005-03-19, SA_REP, 8800, 0.25, 149, 80\n",
            "176, Jonathon, Taylor, JTAYLOR, 011.44.1644.429265, 2006-03-24, SA_REP, 8600, 0.2, 149, 80\n",
            "177, Jack, Livingston, JLIVINGS, 011.44.1644.429264, 2006-04-23, SA_REP, 8400, 0.2, 149, 80\n",
            "178, Kimberely, Grant, KGRANT, 011.44.1644.429263, 2007-05-24, SA_REP, 7000, 0.15, 149, NULL\n",
            "179, Charles, Johnson, CJOHNSON, 011.44.1644.429262, 2008-01-04, SA_REP, 6200, 0.1, 149, 80\n",
            "180, Winston, Taylor, WTAYLOR, 650.507.9876, 2006-01-24, SH_CLERK, 3200, NULL, 120, 50\n",
            "181, Jean, Fleaur, JFLEAUR, 650.507.9877, 2006-02-23, SH_CLERK, 3100, NULL, 120, 50\n",
            "182, Martha, Sullivan, MSULLIVA, 650.507.9878, 2007-06-21, SH_CLERK, 2500, NULL, 120, 50\n",
            "183, Girard, Geoni, GGEONI, 650.507.9879, 2008-02-03, SH_CLERK, 2800, NULL, 120, 50\n",
            "184, Nandita, Sarchand, NSARCHAN, 650.509.1876, 2004-01-27, SH_CLERK, 4200, NULL, 121, 50\n",
            "185, Alexis, Bull, ABULL, 650.509.2876, 2005-02-20, SH_CLERK, 4100, NULL, 121, 50\n",
            "186, Julia, Dellinger, JDELLING, 650.509.3876, 2006-06-24, SH_CLERK, 3400, NULL, 121, 50\n",
            "187, Anthony, Cabrio, ACABRIO, 650.509.4876, 2007-02-07, SH_CLERK, 3000, NULL, 121, 50\n",
            "188, Kelly, Chung, KCHUNG, 650.505.1876, 2005-06-14, SH_CLERK, 3800, NULL, 122, 50\n",
            "189, Jennifer, Dilly, JDILLY, 650.505.2876, 2005-08-13, SH_CLERK, 3600, NULL, 122, 50\n",
            "190, Timothy, Gates, TGATES, 650.505.3876, 2006-07-11, SH_CLERK, 2900, NULL, 122, 50\n",
            "191, Randall, Perkins, RPERKINS, 650.505.4876, 2007-12-19, SH_CLERK, 2500, NULL, 122, 50\n",
            "192, Sarah, Bell, SBELL, 650.501.1876, 2004-02-04, SH_CLERK, 4000, NULL, 123, 50\n",
            "193, Britney, Everett, BEVERETT, 650.501.2876, 2005-03-03, SH_CLERK, 3900, NULL, 123, 50\n",
            "194, Samuel, McCain, SMCCAIN, 650.501.3876, 2006-07-01, SH_CLERK, 3200, NULL, 123, 50\n",
            "195, Vance, Jones, VJONES, 650.501.4876, 2007-03-17, SH_CLERK, 2800, NULL, 123, 50\n",
            "196, Alana, Walsh, AWALSH, 650.507.9811, 2006-04-24, SH_CLERK, 3100, NULL, 124, 50\n",
            "197, Kevin, Feeney, KFEENEY, 650.507.9822, 2006-05-23, SH_CLERK, 3000, NULL, 124, 50\n",
            "198, Donald, OConnell, DOCONNEL, 650.507.9833, 2007-06-21, SH_CLERK, 2600, NULL, 124, 50\n",
            "199, Douglas, Grant, DGRANT, 650.507.9844, 2008-01-13, SH_CLERK, 2600, NULL, 124, 50\n",
            "200, Jennifer, Whalen, JWHALEN, 515.123.4444, 2003-09-17, AD_ASST, 4400, NULL, 101, 10\n",
            "201, Michael, Hartstein, MHARTSTE, 515.123.5555, 2004-02-17, MK_MAN, 13000, NULL, 100, 20\n",
            "202, Pat, Fay, PFAY, 603.123.6666, 2005-08-17, MK_REP, 6000, NULL, 201, 20\n",
            "203, Susan, Mavris, SMAVRIS, 515.123.7777, 2002-06-07, HR_REP, 6500, NULL, 101, 40\n",
            "204, Hermann, Baer, HBAER, 515.123.8888, 2002-06-07, PR_REP, 10000, NULL, 101, 70\n",
            "205, Shelley, Higgins, SHIGGINS, 515.123.8080, 2002-06-07, AC_MGR, 12008, NULL, 101, 110\n",
            "206, William, Gietz, WGIETZ, 515.123.8181, 2002-06-07, AC_ACCOUNT, 8300, NULL, 205, 110\n",
            "Processed 108 lines include header.\n"
          ]
        }
      ]
    },
    {
      "cell_type": "code",
      "source": [
        "def read_file(csv_file_name, column_start=0, column_end=None):\n",
        "    with open(csv_path + csv_file_name, mode='r') as csv_file:\n",
        "        csv_reader = csv.reader(csv_file, delimiter=',')\n",
        "        line_count = 0\n",
        "        for row in csv_reader:\n",
        "            if line_count == 0:\n",
        "                print(\"Column names:\")\n",
        "            print(\", \".join(row[column_start:column_end]))\n",
        "            line_count += 1\n",
        "        print(f'Processed {line_count} lines include header.')"
      ],
      "metadata": {
        "id": "1n5vY2qazsUx"
      },
      "execution_count": 81,
      "outputs": []
    },
    {
      "cell_type": "code",
      "source": [
        "read_file('employees.csv', 0, 3)"
      ],
      "metadata": {
        "colab": {
          "base_uri": "https://localhost:8080/"
        },
        "id": "UL1_8VHp0GtZ",
        "outputId": "7727f97e-2db9-443a-95c5-f8568024d3ee"
      },
      "execution_count": 82,
      "outputs": [
        {
          "output_type": "stream",
          "name": "stdout",
          "text": [
            "Column names:\n",
            "employee_id, first_name, last_name\n",
            "100, Steven, King\n",
            "101, Neena, Kochhar\n",
            "102, Lex, 'De Haan'\n",
            "103, Alexander, Hunold\n",
            "104, Bruce, Ernst\n",
            "105, David, Austin\n",
            "106, Valli, Pataballa\n",
            "107, Diana, Lorentz\n",
            "108, Nancy, Greenberg\n",
            "109, Daniel, Faviet\n",
            "110, John, Chen\n",
            "111, Ismael, Sciarra\n",
            "112, 'Jose Manuel', Urman\n",
            "113, Luis, Popp\n",
            "114, Den, Raphaely\n",
            "115, Alexander, Khoo\n",
            "116, Shelli, Baida\n",
            "117, Sigal, Tobias\n",
            "118, Guy, Himuro\n",
            "119, Karen, Colmenares\n",
            "120, Matthew, Weiss\n",
            "121, Adam, Fripp\n",
            "122, Payam, Kaufling\n",
            "123, Shanta, Vollman\n",
            "124, Kevin, Mourgos\n",
            "125, Julia, Nayer\n",
            "126, Irene, Mikkilineni\n",
            "127, James, Landry\n",
            "128, Steven, Markle\n",
            "129, Laura, Bissot\n",
            "130, Mozhe, Atkinson\n",
            "131, James, Marlow\n",
            "132, TJ, Olson\n",
            "133, Jason, Mallin\n",
            "134, Michael, Rogers\n",
            "135, Ki, Gee\n",
            "136, Hazel, Philtanker\n",
            "137, Renske, Ladwig\n",
            "138, Stephen, Stiles\n",
            "139, John, Seo\n",
            "140, Joshua, Patel\n",
            "141, Trenna, Rajs\n",
            "142, Curtis, Davies\n",
            "143, Randall, Matos\n",
            "144, Peter, Vargas\n",
            "145, John, Russell\n",
            "146, Karen, Partners\n",
            "147, Alberto, Errazuriz\n",
            "148, Gerald, Cambrault\n",
            "149, Eleni, Zlotkey\n",
            "150, Peter, Tucker\n",
            "151, David, Bernstein\n",
            "152, Peter, Hall\n",
            "153, Christopher, Olsen\n",
            "154, Nanette, Cambrault\n",
            "155, Oliver, Tuvault\n",
            "156, Janette, King\n",
            "157, Patrick, Sully\n",
            "158, Allan, McEwen\n",
            "159, Lindsey, Smith\n",
            "160, Louise, Doran\n",
            "161, Sarath, Sewall\n",
            "162, Clara, Vishney\n",
            "163, Danielle, Greene\n",
            "164, Mattea, Marvins\n",
            "165, David, Lee\n",
            "166, Sundar, Ande\n",
            "167, Amit, Banda\n",
            "168, Lisa, Ozer\n",
            "169, Harrison, Bloom\n",
            "170, Tayler, Fox\n",
            "171, William, Smith\n",
            "172, Elizabeth, Bates\n",
            "173, Sundita, Kumar\n",
            "174, Ellen, Abel\n",
            "175, Alyssa, Hutton\n",
            "176, Jonathon, Taylor\n",
            "177, Jack, Livingston\n",
            "178, Kimberely, Grant\n",
            "179, Charles, Johnson\n",
            "180, Winston, Taylor\n",
            "181, Jean, Fleaur\n",
            "182, Martha, Sullivan\n",
            "183, Girard, Geoni\n",
            "184, Nandita, Sarchand\n",
            "185, Alexis, Bull\n",
            "186, Julia, Dellinger\n",
            "187, Anthony, Cabrio\n",
            "188, Kelly, Chung\n",
            "189, Jennifer, Dilly\n",
            "190, Timothy, Gates\n",
            "191, Randall, Perkins\n",
            "192, Sarah, Bell\n",
            "193, Britney, Everett\n",
            "194, Samuel, McCain\n",
            "195, Vance, Jones\n",
            "196, Alana, Walsh\n",
            "197, Kevin, Feeney\n",
            "198, Donald, OConnell\n",
            "199, Douglas, Grant\n",
            "200, Jennifer, Whalen\n",
            "201, Michael, Hartstein\n",
            "202, Pat, Fay\n",
            "203, Susan, Mavris\n",
            "204, Hermann, Baer\n",
            "205, Shelley, Higgins\n",
            "206, William, Gietz\n",
            "Processed 108 lines include header.\n"
          ]
        }
      ]
    },
    {
      "cell_type": "code",
      "source": [
        "read_file('employees.csv', 0)"
      ],
      "metadata": {
        "colab": {
          "base_uri": "https://localhost:8080/"
        },
        "id": "dKw008xM9SOE",
        "outputId": "b88b5c04-c4af-4b66-df75-092543d5110b"
      },
      "execution_count": 83,
      "outputs": [
        {
          "output_type": "stream",
          "name": "stdout",
          "text": [
            "Column names:\n",
            "employee_id, first_name, last_name, email, phone_number, hire_date, job_id, salary, commission_pct, manager_id, department_id\n",
            "100, Steven, King, SKING, 515.123.4567, 2003-06-17, AD_PRES, 24000, NULL, NULL, 90\n",
            "101, Neena, Kochhar, NKOCHHAR, 515.123.4568, 2005-09-21, AD_VP, 17000, NULL, 100, 90\n",
            "102, Lex, 'De Haan', LDEHAAN, 515.123.4569, 2001-01-13, AD_VP, 17000, NULL, 100, 90\n",
            "103, Alexander, Hunold, AHUNOLD, 590.423.4567, 2006-01-03, IT_PROG, 9000, NULL, 102, 60\n",
            "104, Bruce, Ernst, BERNST, 590.423.4568, 2007-05-21, IT_PROG, 6000, NULL, 103, 60\n",
            "105, David, Austin, DAUSTIN, 590.423.4569, 2005-06-25, IT_PROG, 4800, NULL, 103, 60\n",
            "106, Valli, Pataballa, VPATABAL, 590.423.4560, 2006-02-05, IT_PROG, 4800, NULL, 103, 60\n",
            "107, Diana, Lorentz, DLORENTZ, 590.423.5567, 2007-02-07, IT_PROG, 4200, NULL, 103, 60\n",
            "108, Nancy, Greenberg, NGREENBE, 515.124.4569, 2002-08-17, FI_MGR, 12008, NULL, 101, 100\n",
            "109, Daniel, Faviet, DFAVIET, 515.124.4169, 2002-08-16, FI_ACCOUNT, 9000, NULL, 108, 100\n",
            "110, John, Chen, JCHEN, 515.124.4269, 2005-09-28, FI_ACCOUNT, 8200, NULL, 108, 100\n",
            "111, Ismael, Sciarra, ISCIARRA, 515.124.4369, 2005-09-30, FI_ACCOUNT, 7700, NULL, 108, 100\n",
            "112, 'Jose Manuel', Urman, JMURMAN, 515.124.4469, 2006-03-07, FI_ACCOUNT, 7800, NULL, 108, 100\n",
            "113, Luis, Popp, LPOPP, 515.124.4567, 2007-12-07, FI_ACCOUNT, 6900, NULL, 108, 100\n",
            "114, Den, Raphaely, DRAPHEAL, 515.127.4561, 2002-12-07, PU_MAN, 11000, NULL, 100, 30\n",
            "115, Alexander, Khoo, AKHOO, 515.127.4562, 2003-05-18, PU_CLERK, 3100, NULL, 114, 30\n",
            "116, Shelli, Baida, SBAIDA, 515.127.4563, 2005-12-24, PU_CLERK, 2900, NULL, 114, 30\n",
            "117, Sigal, Tobias, STOBIAS, 515.127.4564, 2005-07-24, PU_CLERK, 2800, NULL, 114, 30\n",
            "118, Guy, Himuro, GHIMURO, 515.127.4565, 2006-11-15, PU_CLERK, 2600, NULL, 114, 30\n",
            "119, Karen, Colmenares, KCOLMENA, 515.127.4566, 2007-08-10, PU_CLERK, 2500, NULL, 114, 30\n",
            "120, Matthew, Weiss, MWEISS, 650.123.1234, 2004-07-18, ST_MAN, 8000, NULL, 100, 50\n",
            "121, Adam, Fripp, AFRIPP, 650.123.2234, 2005-04-10, ST_MAN, 8200, NULL, 100, 50\n",
            "122, Payam, Kaufling, PKAUFLIN, 650.123.3234, 2003-05-01, ST_MAN, 7900, NULL, 100, 50\n",
            "123, Shanta, Vollman, SVOLLMAN, 650.123.4234, 2005-10-10, ST_MAN, 6500, NULL, 100, 50\n",
            "124, Kevin, Mourgos, KMOURGOS, 650.123.5234, 2007-11-16, ST_MAN, 5800, NULL, 100, 50\n",
            "125, Julia, Nayer, JNAYER, 650.124.1214, 2005-07-16, ST_CLERK, 3200, NULL, 120, 50\n",
            "126, Irene, Mikkilineni, IMIKKILI, 650.124.1224, 2006-09-28, ST_CLERK, 2700, NULL, 120, 50\n",
            "127, James, Landry, JLANDRY, 650.124.1334, 2007-01-14, ST_CLERK, 2400, NULL, 120, 50\n",
            "128, Steven, Markle, SMARKLE, 650.124.1434, 2008-03-08, ST_CLERK, 2200, NULL, 120, 50\n",
            "129, Laura, Bissot, LBISSOT, 650.124.5234, 2005-08-20, ST_CLERK, 3300, NULL, 121, 50\n",
            "130, Mozhe, Atkinson, MATKINSO, 650.124.6234, 2005-10-30, ST_CLERK, 2800, NULL, 121, 50\n",
            "131, James, Marlow, JAMRLOW, 650.124.7234, 2005-02-16, ST_CLERK, 2500, NULL, 121, 50\n",
            "132, TJ, Olson, TJOLSON, 650.124.8234, 2007-04-10, ST_CLERK, 2100, NULL, 121, 50\n",
            "133, Jason, Mallin, JMALLIN, 650.127.1934, 2004-06-14, ST_CLERK, 3300, NULL, 122, 50\n",
            "134, Michael, Rogers, MROGERS, 650.127.1834, 2006-08-26, ST_CLERK, 2900, NULL, 122, 50\n",
            "135, Ki, Gee, KGEE, 650.127.1734, 2007-12-12, ST_CLERK, 2400, NULL, 122, 50\n",
            "136, Hazel, Philtanker, HPHILTAN, 650.127.1634, 2008-02-06, ST_CLERK, 2200, NULL, 122, 50\n",
            "137, Renske, Ladwig, RLADWIG, 650.121.1234, 2003-07-14, ST_CLERK, 3600, NULL, 123, 50\n",
            "138, Stephen, Stiles, SSTILES, 650.121.2034, 2005-10-26, ST_CLERK, 3200, NULL, 123, 50\n",
            "139, John, Seo, JSEO, 650.121.2019, 2006-02-12, ST_CLERK, 2700, NULL, 123, 50\n",
            "140, Joshua, Patel, JPATEL, 650.121.1834, 2006-04-06, ST_CLERK, 2500, NULL, 123, 50\n",
            "141, Trenna, Rajs, TRAJS, 650.121.8009, 2003-10-17, ST_CLERK, 3500, NULL, 124, 50\n",
            "142, Curtis, Davies, CDAVIES, 650.121.2994, 2005-01-29, ST_CLERK, 3100, NULL, 124, 50\n",
            "143, Randall, Matos, RMATOS, 650.121.2874, 2006-03-15, ST_CLERK, 2600, NULL, 124, 50\n",
            "144, Peter, Vargas, PVARGAS, 650.121.2004, 2006-07-09, ST_CLERK, 2500, NULL, 124, 50\n",
            "145, John, Russell, JRUSSEL, 011.44.1344.429268, 2004-10-01, SA_MAN, 14000, 0.4, 100, 80\n",
            "146, Karen, Partners, KPARTNER, 011.44.1344.467268, 2005-01-05, SA_MAN, 13500, 0.3, 100, 80\n",
            "147, Alberto, Errazuriz, AERRAZUR, 011.44.1344.429278, 2005-03-10, SA_MAN, 12000, 0.3, 100, 80\n",
            "148, Gerald, Cambrault, GCAMBRAU, 011.44.1344.619268, 2007-10-15, SA_MAN, 11000, 0.3, 100, 80\n",
            "149, Eleni, Zlotkey, EZLOTKEY, 011.44.1344.429018, 2008-01-29, SA_MAN, 10500, 0.2, 100, 80\n",
            "150, Peter, Tucker, PTUCKER, 011.44.1344.129268, 2005-01-30, SA_REP, 10000, 0.3, 145, 80\n",
            "151, David, Bernstein, DBERNSTE, 011.44.1344.345268, 2005-03-24, SA_REP, 9500, 0.25, 145, 80\n",
            "152, Peter, Hall, PHALL, 011.44.1344.478968, 2005-08-20, SA_REP, 9000, 0.25, 145, 80\n",
            "153, Christopher, Olsen, COLSEN, 011.44.1344.498718, 2006-03-30, SA_REP, 8000, 0.2, 145, 80\n",
            "154, Nanette, Cambrault, NCAMBRAU, 011.44.1344.987668, 2006-12-09, SA_REP, 7500, 0.2, 145, 80\n",
            "155, Oliver, Tuvault, OTUVAULT, 011.44.1344.486508, 2007-11-23, SA_REP, 7000, 0.15, 145, 80\n",
            "156, Janette, King, JKING, 011.44.1345.429268, 2004-01-30, SA_REP, 10000, 0.35, 146, 80\n",
            "157, Patrick, Sully, PSULLY, 011.44.1345.929268, 2004-03-04, SA_REP, 9500, 0.35, 146, 80\n",
            "158, Allan, McEwen, AMCEWEN, 011.44.1345.829268, 2004-08-01, SA_REP, 9000, 0.35, 146, 80\n",
            "159, Lindsey, Smith, LSMITH, 011.44.1345.729268, 2005-03-10, SA_REP, 8000, 0.3, 146, 80\n",
            "160, Louise, Doran, LDORAN, 011.44.1345.629268, 2005-12-15, SA_REP, 7500, 0.3, 146, 80\n",
            "161, Sarath, Sewall, SSEWALL, 011.44.1345.529268, 2006-11-03, SA_REP, 7000, 0.25, 146, 80\n",
            "162, Clara, Vishney, CVISHNEY, 011.44.1346.129268, 2005-11-11, SA_REP, 10500, 0.25, 147, 80\n",
            "163, Danielle, Greene, DGREENE, 011.44.1346.229268, 2007-03-19, SA_REP, 9500, 0.15, 147, 80\n",
            "164, Mattea, Marvins, MMARVINS, 011.44.1346.329268, 2008-01-24, SA_REP, 7200, 0.1, 147, 80\n",
            "165, David, Lee, DLEE, 011.44.1346.529268, 2008-02-23, SA_REP, 6800, 0.1, 147, 80\n",
            "166, Sundar, Ande, SANDE, 011.44.1346.629268, 2008-03-24, SA_REP, 6400, 0.1, 147, 80\n",
            "167, Amit, Banda, ABANDA, 011.44.1346.729268, 2008-04-21, SA_REP, 6200, 0.1, 147, 80\n",
            "168, Lisa, Ozer, LOZER, 011.44.1343.929268, 2005-03-11, SA_REP, 11500, 0.25, 148, 80\n",
            "169, Harrison, Bloom, HBLOOM, 011.44.1343.829268, 2006-03-23, SA_REP, 10000, 0.2, 148, 80\n",
            "170, Tayler, Fox, TFOX, 011.44.1343.729268, 2006-01-24, SA_REP, 9600, 0.2, 148, 80\n",
            "171, William, Smith, WSMITH, 011.44.1343.629268, 2007-02-23, SA_REP, 7400, 0.15, 148, 80\n",
            "172, Elizabeth, Bates, EBATES, 011.44.1343.529268, 2007-03-24, SA_REP, 7300, 0.15, 148, 80\n",
            "173, Sundita, Kumar, SKUMAR, 011.44.1343.329268, 2008-04-21, SA_REP, 6100, 0.1, 148, 80\n",
            "174, Ellen, Abel, EABEL, 011.44.1644.429267, 2004-05-11, SA_REP, 11000, 0.3, 149, 80\n",
            "175, Alyssa, Hutton, AHUTTON, 011.44.1644.429266, 2005-03-19, SA_REP, 8800, 0.25, 149, 80\n",
            "176, Jonathon, Taylor, JTAYLOR, 011.44.1644.429265, 2006-03-24, SA_REP, 8600, 0.2, 149, 80\n",
            "177, Jack, Livingston, JLIVINGS, 011.44.1644.429264, 2006-04-23, SA_REP, 8400, 0.2, 149, 80\n",
            "178, Kimberely, Grant, KGRANT, 011.44.1644.429263, 2007-05-24, SA_REP, 7000, 0.15, 149, NULL\n",
            "179, Charles, Johnson, CJOHNSON, 011.44.1644.429262, 2008-01-04, SA_REP, 6200, 0.1, 149, 80\n",
            "180, Winston, Taylor, WTAYLOR, 650.507.9876, 2006-01-24, SH_CLERK, 3200, NULL, 120, 50\n",
            "181, Jean, Fleaur, JFLEAUR, 650.507.9877, 2006-02-23, SH_CLERK, 3100, NULL, 120, 50\n",
            "182, Martha, Sullivan, MSULLIVA, 650.507.9878, 2007-06-21, SH_CLERK, 2500, NULL, 120, 50\n",
            "183, Girard, Geoni, GGEONI, 650.507.9879, 2008-02-03, SH_CLERK, 2800, NULL, 120, 50\n",
            "184, Nandita, Sarchand, NSARCHAN, 650.509.1876, 2004-01-27, SH_CLERK, 4200, NULL, 121, 50\n",
            "185, Alexis, Bull, ABULL, 650.509.2876, 2005-02-20, SH_CLERK, 4100, NULL, 121, 50\n",
            "186, Julia, Dellinger, JDELLING, 650.509.3876, 2006-06-24, SH_CLERK, 3400, NULL, 121, 50\n",
            "187, Anthony, Cabrio, ACABRIO, 650.509.4876, 2007-02-07, SH_CLERK, 3000, NULL, 121, 50\n",
            "188, Kelly, Chung, KCHUNG, 650.505.1876, 2005-06-14, SH_CLERK, 3800, NULL, 122, 50\n",
            "189, Jennifer, Dilly, JDILLY, 650.505.2876, 2005-08-13, SH_CLERK, 3600, NULL, 122, 50\n",
            "190, Timothy, Gates, TGATES, 650.505.3876, 2006-07-11, SH_CLERK, 2900, NULL, 122, 50\n",
            "191, Randall, Perkins, RPERKINS, 650.505.4876, 2007-12-19, SH_CLERK, 2500, NULL, 122, 50\n",
            "192, Sarah, Bell, SBELL, 650.501.1876, 2004-02-04, SH_CLERK, 4000, NULL, 123, 50\n",
            "193, Britney, Everett, BEVERETT, 650.501.2876, 2005-03-03, SH_CLERK, 3900, NULL, 123, 50\n",
            "194, Samuel, McCain, SMCCAIN, 650.501.3876, 2006-07-01, SH_CLERK, 3200, NULL, 123, 50\n",
            "195, Vance, Jones, VJONES, 650.501.4876, 2007-03-17, SH_CLERK, 2800, NULL, 123, 50\n",
            "196, Alana, Walsh, AWALSH, 650.507.9811, 2006-04-24, SH_CLERK, 3100, NULL, 124, 50\n",
            "197, Kevin, Feeney, KFEENEY, 650.507.9822, 2006-05-23, SH_CLERK, 3000, NULL, 124, 50\n",
            "198, Donald, OConnell, DOCONNEL, 650.507.9833, 2007-06-21, SH_CLERK, 2600, NULL, 124, 50\n",
            "199, Douglas, Grant, DGRANT, 650.507.9844, 2008-01-13, SH_CLERK, 2600, NULL, 124, 50\n",
            "200, Jennifer, Whalen, JWHALEN, 515.123.4444, 2003-09-17, AD_ASST, 4400, NULL, 101, 10\n",
            "201, Michael, Hartstein, MHARTSTE, 515.123.5555, 2004-02-17, MK_MAN, 13000, NULL, 100, 20\n",
            "202, Pat, Fay, PFAY, 603.123.6666, 2005-08-17, MK_REP, 6000, NULL, 201, 20\n",
            "203, Susan, Mavris, SMAVRIS, 515.123.7777, 2002-06-07, HR_REP, 6500, NULL, 101, 40\n",
            "204, Hermann, Baer, HBAER, 515.123.8888, 2002-06-07, PR_REP, 10000, NULL, 101, 70\n",
            "205, Shelley, Higgins, SHIGGINS, 515.123.8080, 2002-06-07, AC_MGR, 12008, NULL, 101, 110\n",
            "206, William, Gietz, WGIETZ, 515.123.8181, 2002-06-07, AC_ACCOUNT, 8300, NULL, 205, 110\n",
            "Processed 108 lines include header.\n"
          ]
        }
      ]
    },
    {
      "cell_type": "code",
      "source": [
        "read_file('employees.csv', 3, 5)"
      ],
      "metadata": {
        "colab": {
          "base_uri": "https://localhost:8080/"
        },
        "id": "vk41sNZh9mBb",
        "outputId": "4b432905-7237-439a-ca62-283aa87b9a59"
      },
      "execution_count": 84,
      "outputs": [
        {
          "output_type": "stream",
          "name": "stdout",
          "text": [
            "Column names:\n",
            "email, phone_number\n",
            "SKING, 515.123.4567\n",
            "NKOCHHAR, 515.123.4568\n",
            "LDEHAAN, 515.123.4569\n",
            "AHUNOLD, 590.423.4567\n",
            "BERNST, 590.423.4568\n",
            "DAUSTIN, 590.423.4569\n",
            "VPATABAL, 590.423.4560\n",
            "DLORENTZ, 590.423.5567\n",
            "NGREENBE, 515.124.4569\n",
            "DFAVIET, 515.124.4169\n",
            "JCHEN, 515.124.4269\n",
            "ISCIARRA, 515.124.4369\n",
            "JMURMAN, 515.124.4469\n",
            "LPOPP, 515.124.4567\n",
            "DRAPHEAL, 515.127.4561\n",
            "AKHOO, 515.127.4562\n",
            "SBAIDA, 515.127.4563\n",
            "STOBIAS, 515.127.4564\n",
            "GHIMURO, 515.127.4565\n",
            "KCOLMENA, 515.127.4566\n",
            "MWEISS, 650.123.1234\n",
            "AFRIPP, 650.123.2234\n",
            "PKAUFLIN, 650.123.3234\n",
            "SVOLLMAN, 650.123.4234\n",
            "KMOURGOS, 650.123.5234\n",
            "JNAYER, 650.124.1214\n",
            "IMIKKILI, 650.124.1224\n",
            "JLANDRY, 650.124.1334\n",
            "SMARKLE, 650.124.1434\n",
            "LBISSOT, 650.124.5234\n",
            "MATKINSO, 650.124.6234\n",
            "JAMRLOW, 650.124.7234\n",
            "TJOLSON, 650.124.8234\n",
            "JMALLIN, 650.127.1934\n",
            "MROGERS, 650.127.1834\n",
            "KGEE, 650.127.1734\n",
            "HPHILTAN, 650.127.1634\n",
            "RLADWIG, 650.121.1234\n",
            "SSTILES, 650.121.2034\n",
            "JSEO, 650.121.2019\n",
            "JPATEL, 650.121.1834\n",
            "TRAJS, 650.121.8009\n",
            "CDAVIES, 650.121.2994\n",
            "RMATOS, 650.121.2874\n",
            "PVARGAS, 650.121.2004\n",
            "JRUSSEL, 011.44.1344.429268\n",
            "KPARTNER, 011.44.1344.467268\n",
            "AERRAZUR, 011.44.1344.429278\n",
            "GCAMBRAU, 011.44.1344.619268\n",
            "EZLOTKEY, 011.44.1344.429018\n",
            "PTUCKER, 011.44.1344.129268\n",
            "DBERNSTE, 011.44.1344.345268\n",
            "PHALL, 011.44.1344.478968\n",
            "COLSEN, 011.44.1344.498718\n",
            "NCAMBRAU, 011.44.1344.987668\n",
            "OTUVAULT, 011.44.1344.486508\n",
            "JKING, 011.44.1345.429268\n",
            "PSULLY, 011.44.1345.929268\n",
            "AMCEWEN, 011.44.1345.829268\n",
            "LSMITH, 011.44.1345.729268\n",
            "LDORAN, 011.44.1345.629268\n",
            "SSEWALL, 011.44.1345.529268\n",
            "CVISHNEY, 011.44.1346.129268\n",
            "DGREENE, 011.44.1346.229268\n",
            "MMARVINS, 011.44.1346.329268\n",
            "DLEE, 011.44.1346.529268\n",
            "SANDE, 011.44.1346.629268\n",
            "ABANDA, 011.44.1346.729268\n",
            "LOZER, 011.44.1343.929268\n",
            "HBLOOM, 011.44.1343.829268\n",
            "TFOX, 011.44.1343.729268\n",
            "WSMITH, 011.44.1343.629268\n",
            "EBATES, 011.44.1343.529268\n",
            "SKUMAR, 011.44.1343.329268\n",
            "EABEL, 011.44.1644.429267\n",
            "AHUTTON, 011.44.1644.429266\n",
            "JTAYLOR, 011.44.1644.429265\n",
            "JLIVINGS, 011.44.1644.429264\n",
            "KGRANT, 011.44.1644.429263\n",
            "CJOHNSON, 011.44.1644.429262\n",
            "WTAYLOR, 650.507.9876\n",
            "JFLEAUR, 650.507.9877\n",
            "MSULLIVA, 650.507.9878\n",
            "GGEONI, 650.507.9879\n",
            "NSARCHAN, 650.509.1876\n",
            "ABULL, 650.509.2876\n",
            "JDELLING, 650.509.3876\n",
            "ACABRIO, 650.509.4876\n",
            "KCHUNG, 650.505.1876\n",
            "JDILLY, 650.505.2876\n",
            "TGATES, 650.505.3876\n",
            "RPERKINS, 650.505.4876\n",
            "SBELL, 650.501.1876\n",
            "BEVERETT, 650.501.2876\n",
            "SMCCAIN, 650.501.3876\n",
            "VJONES, 650.501.4876\n",
            "AWALSH, 650.507.9811\n",
            "KFEENEY, 650.507.9822\n",
            "DOCONNEL, 650.507.9833\n",
            "DGRANT, 650.507.9844\n",
            "JWHALEN, 515.123.4444\n",
            "MHARTSTE, 515.123.5555\n",
            "PFAY, 603.123.6666\n",
            "SMAVRIS, 515.123.7777\n",
            "HBAER, 515.123.8888\n",
            "SHIGGINS, 515.123.8080\n",
            "WGIETZ, 515.123.8181\n",
            "Processed 108 lines include header.\n"
          ]
        }
      ]
    },
    {
      "cell_type": "code",
      "source": [
        "def read_file(csv_file_name, column_start=0, column_end=None, limit=None):\n",
        "  with open(csv_path + csv_file_name, mode='r') as csv_file:\n",
        "    csv_reader = csv.reader(csv_file, delimiter=',')\n",
        "    line_count = 0\n",
        "    for row in csv_reader:\n",
        "      if line_count == 0:\n",
        "        print(f'Column names:')\n",
        "        print(', '.join(row[column_start:column_end]))\n",
        "      elif limit is not None and line_count > limit:\n",
        "        break\n",
        "      else:\n",
        "        print(', '.join(row[column_start:column_end]))\n",
        "      line_count += 1\n",
        "    print(f'Processed {line_count} lines include header.')\n"
      ],
      "metadata": {
        "id": "xhODCWBHArUZ"
      },
      "execution_count": 85,
      "outputs": []
    },
    {
      "cell_type": "code",
      "source": [
        "read_file('employees.csv', 3, 5, 10)"
      ],
      "metadata": {
        "colab": {
          "base_uri": "https://localhost:8080/"
        },
        "id": "9H5gL5vUdiZQ",
        "outputId": "cc10472f-910f-43fb-9603-a08845980d6e"
      },
      "execution_count": 86,
      "outputs": [
        {
          "output_type": "stream",
          "name": "stdout",
          "text": [
            "Column names:\n",
            "email, phone_number\n",
            "SKING, 515.123.4567\n",
            "NKOCHHAR, 515.123.4568\n",
            "LDEHAAN, 515.123.4569\n",
            "AHUNOLD, 590.423.4567\n",
            "BERNST, 590.423.4568\n",
            "DAUSTIN, 590.423.4569\n",
            "VPATABAL, 590.423.4560\n",
            "DLORENTZ, 590.423.5567\n",
            "NGREENBE, 515.124.4569\n",
            "DFAVIET, 515.124.4169\n",
            "Processed 11 lines include header.\n"
          ]
        }
      ]
    },
    {
      "cell_type": "code",
      "source": [
        "def read_file(csv_file_name, column_start=0, column_end=None, limit=None, sort=0):\n",
        "  with open(csv_path + csv_file_name, mode='r') as csv_file:\n",
        "    csv_reader = csv.reader(csv_file, delimiter=',')\n",
        "    data = list(csv_reader)\n",
        "    header, *rows = data\n",
        "    if sort != 0:\n",
        "      reverse_sort = sort == -1\n",
        "      rows.sort(key=lambda x: x[column_start], reverse=reverse_sort)\n",
        "    if limit is not None:\n",
        "      rows = rows[:limit]\n",
        "    print('Column names:')\n",
        "    print(', '.join(header[column_start:column_end]))\n",
        "    for row in rows:\n",
        "      print(', '.join(row[column_start:column_end]))\n",
        "\n",
        "    print(f'Processed {len(rows) + 1} lines include header.')"
      ],
      "metadata": {
        "id": "c7MXlErbek7b"
      },
      "execution_count": 87,
      "outputs": []
    },
    {
      "cell_type": "code",
      "source": [
        "read_file('employees.csv', 3, 5, 10, -1)"
      ],
      "metadata": {
        "colab": {
          "base_uri": "https://localhost:8080/"
        },
        "id": "Gg9Q7kbzgLWG",
        "outputId": "a9745f58-cb78-45bb-e904-181d596892cd"
      },
      "execution_count": 88,
      "outputs": [
        {
          "output_type": "stream",
          "name": "stdout",
          "text": [
            "Column names:\n",
            "email, phone_number\n",
            "WTAYLOR, 650.507.9876\n",
            "WSMITH, 011.44.1343.629268\n",
            "WGIETZ, 515.123.8181\n",
            "VPATABAL, 590.423.4560\n",
            "VJONES, 650.501.4876\n",
            "TRAJS, 650.121.8009\n",
            "TJOLSON, 650.124.8234\n",
            "TGATES, 650.505.3876\n",
            "TFOX, 011.44.1343.729268\n",
            "SVOLLMAN, 650.123.4234\n",
            "Processed 11 lines include header.\n"
          ]
        }
      ]
    },
    {
      "cell_type": "code",
      "source": [
        "read_file('employees.csv', 3, 5, 10, 1)"
      ],
      "metadata": {
        "colab": {
          "base_uri": "https://localhost:8080/"
        },
        "id": "CobakEEZgfUI",
        "outputId": "301d47f0-e14c-4633-f06a-0ec72aa1218c"
      },
      "execution_count": 89,
      "outputs": [
        {
          "output_type": "stream",
          "name": "stdout",
          "text": [
            "Column names:\n",
            "email, phone_number\n",
            "ABANDA, 011.44.1346.729268\n",
            "ABULL, 650.509.2876\n",
            "ACABRIO, 650.509.4876\n",
            "AERRAZUR, 011.44.1344.429278\n",
            "AFRIPP, 650.123.2234\n",
            "AHUNOLD, 590.423.4567\n",
            "AHUTTON, 011.44.1644.429266\n",
            "AKHOO, 515.127.4562\n",
            "AMCEWEN, 011.44.1345.829268\n",
            "AWALSH, 650.507.9811\n",
            "Processed 11 lines include header.\n"
          ]
        }
      ]
    },
    {
      "cell_type": "code",
      "source": [
        "def find_file(csv_file_name, index_column, keyword):\n",
        "  found_rows = []\n",
        "  with open(csv_path + csv_file_name, mode='r') as csv_file:\n",
        "    csv_reader = csv.reader(csv_file)\n",
        "    data = list(csv_reader)\n",
        "    header = data[0]\n",
        "    rows = data[1:]\n",
        "\n",
        "    for row in rows:\n",
        "      if keyword in row[index_column]:\n",
        "        found_rows.append(row)\n",
        "\n",
        "    print('Column names:')\n",
        "    print(', '.join(header))\n",
        "\n",
        "    for row in found_rows:\n",
        "      print(', '.join(row))\n",
        "\n",
        "    print(f'Processed {len(data)} lines include header.')\n",
        "    print(f'Founded {len(found_rows)} lines.')"
      ],
      "metadata": {
        "id": "rdlG8wiJF-ul"
      },
      "execution_count": 91,
      "outputs": []
    },
    {
      "cell_type": "code",
      "source": [
        "find_file('employees.csv', 5, '2004')"
      ],
      "metadata": {
        "colab": {
          "base_uri": "https://localhost:8080/"
        },
        "id": "0zU_FjeAQ5QY",
        "outputId": "63ea639d-d5ae-4e74-ca84-4836ea0fdba3"
      },
      "execution_count": 92,
      "outputs": [
        {
          "output_type": "stream",
          "name": "stdout",
          "text": [
            "Column names:\n",
            "employee_id, first_name, last_name, email, phone_number, hire_date, job_id, salary, commission_pct, manager_id, department_id\n",
            "120, Matthew, Weiss, MWEISS, 650.123.1234, 2004-07-18, ST_MAN, 8000, NULL, 100, 50\n",
            "133, Jason, Mallin, JMALLIN, 650.127.1934, 2004-06-14, ST_CLERK, 3300, NULL, 122, 50\n",
            "145, John, Russell, JRUSSEL, 011.44.1344.429268, 2004-10-01, SA_MAN, 14000, 0.4, 100, 80\n",
            "156, Janette, King, JKING, 011.44.1345.429268, 2004-01-30, SA_REP, 10000, 0.35, 146, 80\n",
            "157, Patrick, Sully, PSULLY, 011.44.1345.929268, 2004-03-04, SA_REP, 9500, 0.35, 146, 80\n",
            "158, Allan, McEwen, AMCEWEN, 011.44.1345.829268, 2004-08-01, SA_REP, 9000, 0.35, 146, 80\n",
            "174, Ellen, Abel, EABEL, 011.44.1644.429267, 2004-05-11, SA_REP, 11000, 0.3, 149, 80\n",
            "184, Nandita, Sarchand, NSARCHAN, 650.509.1876, 2004-01-27, SH_CLERK, 4200, NULL, 121, 50\n",
            "192, Sarah, Bell, SBELL, 650.501.1876, 2004-02-04, SH_CLERK, 4000, NULL, 123, 50\n",
            "201, Michael, Hartstein, MHARTSTE, 515.123.5555, 2004-02-17, MK_MAN, 13000, NULL, 100, 20\n",
            "Processed 108 lines include header.\n",
            "Founded 10 lines.\n"
          ]
        }
      ]
    },
    {
      "cell_type": "code",
      "source": [
        "find_file('employees.csv', 6, 'SA_REP')"
      ],
      "metadata": {
        "colab": {
          "base_uri": "https://localhost:8080/"
        },
        "id": "iUSD4xIrRCwE",
        "outputId": "4ea371d3-3f43-4979-f12f-db4e9c74e4cd"
      },
      "execution_count": 93,
      "outputs": [
        {
          "output_type": "stream",
          "name": "stdout",
          "text": [
            "Column names:\n",
            "employee_id, first_name, last_name, email, phone_number, hire_date, job_id, salary, commission_pct, manager_id, department_id\n",
            "150, Peter, Tucker, PTUCKER, 011.44.1344.129268, 2005-01-30, SA_REP, 10000, 0.3, 145, 80\n",
            "151, David, Bernstein, DBERNSTE, 011.44.1344.345268, 2005-03-24, SA_REP, 9500, 0.25, 145, 80\n",
            "152, Peter, Hall, PHALL, 011.44.1344.478968, 2005-08-20, SA_REP, 9000, 0.25, 145, 80\n",
            "153, Christopher, Olsen, COLSEN, 011.44.1344.498718, 2006-03-30, SA_REP, 8000, 0.2, 145, 80\n",
            "154, Nanette, Cambrault, NCAMBRAU, 011.44.1344.987668, 2006-12-09, SA_REP, 7500, 0.2, 145, 80\n",
            "155, Oliver, Tuvault, OTUVAULT, 011.44.1344.486508, 2007-11-23, SA_REP, 7000, 0.15, 145, 80\n",
            "156, Janette, King, JKING, 011.44.1345.429268, 2004-01-30, SA_REP, 10000, 0.35, 146, 80\n",
            "157, Patrick, Sully, PSULLY, 011.44.1345.929268, 2004-03-04, SA_REP, 9500, 0.35, 146, 80\n",
            "158, Allan, McEwen, AMCEWEN, 011.44.1345.829268, 2004-08-01, SA_REP, 9000, 0.35, 146, 80\n",
            "159, Lindsey, Smith, LSMITH, 011.44.1345.729268, 2005-03-10, SA_REP, 8000, 0.3, 146, 80\n",
            "160, Louise, Doran, LDORAN, 011.44.1345.629268, 2005-12-15, SA_REP, 7500, 0.3, 146, 80\n",
            "161, Sarath, Sewall, SSEWALL, 011.44.1345.529268, 2006-11-03, SA_REP, 7000, 0.25, 146, 80\n",
            "162, Clara, Vishney, CVISHNEY, 011.44.1346.129268, 2005-11-11, SA_REP, 10500, 0.25, 147, 80\n",
            "163, Danielle, Greene, DGREENE, 011.44.1346.229268, 2007-03-19, SA_REP, 9500, 0.15, 147, 80\n",
            "164, Mattea, Marvins, MMARVINS, 011.44.1346.329268, 2008-01-24, SA_REP, 7200, 0.1, 147, 80\n",
            "165, David, Lee, DLEE, 011.44.1346.529268, 2008-02-23, SA_REP, 6800, 0.1, 147, 80\n",
            "166, Sundar, Ande, SANDE, 011.44.1346.629268, 2008-03-24, SA_REP, 6400, 0.1, 147, 80\n",
            "167, Amit, Banda, ABANDA, 011.44.1346.729268, 2008-04-21, SA_REP, 6200, 0.1, 147, 80\n",
            "168, Lisa, Ozer, LOZER, 011.44.1343.929268, 2005-03-11, SA_REP, 11500, 0.25, 148, 80\n",
            "169, Harrison, Bloom, HBLOOM, 011.44.1343.829268, 2006-03-23, SA_REP, 10000, 0.2, 148, 80\n",
            "170, Tayler, Fox, TFOX, 011.44.1343.729268, 2006-01-24, SA_REP, 9600, 0.2, 148, 80\n",
            "171, William, Smith, WSMITH, 011.44.1343.629268, 2007-02-23, SA_REP, 7400, 0.15, 148, 80\n",
            "172, Elizabeth, Bates, EBATES, 011.44.1343.529268, 2007-03-24, SA_REP, 7300, 0.15, 148, 80\n",
            "173, Sundita, Kumar, SKUMAR, 011.44.1343.329268, 2008-04-21, SA_REP, 6100, 0.1, 148, 80\n",
            "174, Ellen, Abel, EABEL, 011.44.1644.429267, 2004-05-11, SA_REP, 11000, 0.3, 149, 80\n",
            "175, Alyssa, Hutton, AHUTTON, 011.44.1644.429266, 2005-03-19, SA_REP, 8800, 0.25, 149, 80\n",
            "176, Jonathon, Taylor, JTAYLOR, 011.44.1644.429265, 2006-03-24, SA_REP, 8600, 0.2, 149, 80\n",
            "177, Jack, Livingston, JLIVINGS, 011.44.1644.429264, 2006-04-23, SA_REP, 8400, 0.2, 149, 80\n",
            "178, Kimberely, Grant, KGRANT, 011.44.1644.429263, 2007-05-24, SA_REP, 7000, 0.15, 149, NULL\n",
            "179, Charles, Johnson, CJOHNSON, 011.44.1644.429262, 2008-01-04, SA_REP, 6200, 0.1, 149, 80\n",
            "Processed 108 lines include header.\n",
            "Founded 30 lines.\n"
          ]
        }
      ]
    },
    {
      "cell_type": "code",
      "source": [
        "def insert_file(csv_file_name, list_data):\n",
        "  with open(csv_path + csv_file_name, mode='a', newline='') as csv_file:\n",
        "    csv_writer = csv.writer(csv_file)\n",
        "    csv_writer.writerow(list_data)"
      ],
      "metadata": {
        "id": "c0Sl22_cRD-3"
      },
      "execution_count": 94,
      "outputs": []
    },
    {
      "cell_type": "code",
      "source": [
        "insert_file('countries.csv', ['ID', 'Indonesia', 1])"
      ],
      "metadata": {
        "id": "_-GMwGiJRUwK"
      },
      "execution_count": 95,
      "outputs": []
    },
    {
      "cell_type": "code",
      "source": [
        "insert_file('countries.csv', ['ZL', 'New Zealand', 1])"
      ],
      "metadata": {
        "id": "KndPe8diRV41"
      },
      "execution_count": 96,
      "outputs": []
    },
    {
      "cell_type": "code",
      "source": [
        "read_file('countries.csv')"
      ],
      "metadata": {
        "colab": {
          "base_uri": "https://localhost:8080/"
        },
        "id": "1cjB62IrRZfW",
        "outputId": "e6200657-0976-464a-a302-f8b9b75d5e60"
      },
      "execution_count": 97,
      "outputs": [
        {
          "output_type": "stream",
          "name": "stdout",
          "text": [
            "Column names:\n",
            "country_id, country_name, region_id\n",
            "AR, Argentina, 2\n",
            "AU, Australia, 3\n",
            "BE, Belgium, 1\n",
            "BR, Brazil, 2\n",
            "CA, Canada, 2\n",
            "CH, Switzerland, 1\n",
            "CN, China, 3\n",
            "DE, Germany, 1\n",
            "DK, Denmark, 1\n",
            "EG, Egypt, 4\n",
            "FR, France, 1\n",
            "IL, Israel, 4\n",
            "IN, India, 3\n",
            "IT, Italy, 1\n",
            "JP, Japan, 3\n",
            "KW, Kuwait, 4\n",
            "ML, Malaysia, 3\n",
            "MX, Mexico, 2\n",
            "NG, Nigeria, 4\n",
            "NL, Netherlands, 1\n",
            "SG, Singapore, 3\n",
            "UK, 'United Kingdom', 1\n",
            "US, 'United States of America', 2\n",
            "ZM, Zambia, 4\n",
            "ZW, Zimbabwe, 4\n",
            "ID, Indonesia, 1\n",
            "ZL, New Zealand, 1\n",
            "Processed 28 lines include header.\n"
          ]
        }
      ]
    },
    {
      "cell_type": "code",
      "source": [
        "def update_file(csv_file_name, keyword, index_column, new_value):\n",
        "  rows = []\n",
        "  found = False\n",
        "  with open(csv_path + csv_file_name, mode='r') as csv_file:\n",
        "    csv_reader = csv.reader(csv_file)\n",
        "    for row in csv_reader:\n",
        "      rows.append(row)\n",
        "\n",
        "  with open(csv_path + csv_file_name, mode='w', newline='') as csv_file:\n",
        "    csv_writer = csv.writer(csv_file)\n",
        "    for row in rows:\n",
        "      if row[0] == keyword:\n",
        "        row[index_column] = str(new_value)\n",
        "        found = True\n",
        "      csv_writer.writerow(row)\n",
        "\n",
        "  if found:\n",
        "    print('Updated 1 line.')\n",
        "  else:\n",
        "    print('No lines updated.')"
      ],
      "metadata": {
        "id": "E91GTCW3Re7p"
      },
      "execution_count": 98,
      "outputs": []
    },
    {
      "cell_type": "code",
      "source": [
        "update_file('countries.csv', 'ID', 2, 3)"
      ],
      "metadata": {
        "colab": {
          "base_uri": "https://localhost:8080/"
        },
        "id": "xJNB_drdRtYh",
        "outputId": "5824a31b-8c8f-442a-bc7d-3ccf1c3d955d"
      },
      "execution_count": 99,
      "outputs": [
        {
          "output_type": "stream",
          "name": "stdout",
          "text": [
            "Updated 1 line.\n"
          ]
        }
      ]
    },
    {
      "cell_type": "code",
      "source": [
        "read_file('countries.csv')"
      ],
      "metadata": {
        "colab": {
          "base_uri": "https://localhost:8080/"
        },
        "id": "rc_qhwyFRyUj",
        "outputId": "5d80425f-5dbb-42b9-fdf6-0feceaaa69ff"
      },
      "execution_count": 100,
      "outputs": [
        {
          "output_type": "stream",
          "name": "stdout",
          "text": [
            "Column names:\n",
            "country_id, country_name, region_id\n",
            "AR, Argentina, 2\n",
            "AU, Australia, 3\n",
            "BE, Belgium, 1\n",
            "BR, Brazil, 2\n",
            "CA, Canada, 2\n",
            "CH, Switzerland, 1\n",
            "CN, China, 3\n",
            "DE, Germany, 1\n",
            "DK, Denmark, 1\n",
            "EG, Egypt, 4\n",
            "FR, France, 1\n",
            "IL, Israel, 4\n",
            "IN, India, 3\n",
            "IT, Italy, 1\n",
            "JP, Japan, 3\n",
            "KW, Kuwait, 4\n",
            "ML, Malaysia, 3\n",
            "MX, Mexico, 2\n",
            "NG, Nigeria, 4\n",
            "NL, Netherlands, 1\n",
            "SG, Singapore, 3\n",
            "UK, 'United Kingdom', 1\n",
            "US, 'United States of America', 2\n",
            "ZM, Zambia, 4\n",
            "ZW, Zimbabwe, 4\n",
            "ID, Indonesia, 3\n",
            "ZL, New Zealand, 1\n",
            "Processed 28 lines include header.\n"
          ]
        }
      ]
    },
    {
      "cell_type": "code",
      "source": [
        "update_file('countries.csv', 'ID', 1, 'Negara Kesatuan Republik Indonesia')"
      ],
      "metadata": {
        "colab": {
          "base_uri": "https://localhost:8080/"
        },
        "id": "Lb-Erq4TR13S",
        "outputId": "8d01ac4b-3023-4cf4-db8d-fdc9cf8ee4ec"
      },
      "execution_count": 101,
      "outputs": [
        {
          "output_type": "stream",
          "name": "stdout",
          "text": [
            "Updated 1 line.\n"
          ]
        }
      ]
    },
    {
      "cell_type": "code",
      "source": [
        "read_file('countries.csv')"
      ],
      "metadata": {
        "colab": {
          "base_uri": "https://localhost:8080/"
        },
        "id": "lUro50OVR5Uo",
        "outputId": "6d33b701-dee5-4f27-de3b-e5e5cb514f9e"
      },
      "execution_count": 102,
      "outputs": [
        {
          "output_type": "stream",
          "name": "stdout",
          "text": [
            "Column names:\n",
            "country_id, country_name, region_id\n",
            "AR, Argentina, 2\n",
            "AU, Australia, 3\n",
            "BE, Belgium, 1\n",
            "BR, Brazil, 2\n",
            "CA, Canada, 2\n",
            "CH, Switzerland, 1\n",
            "CN, China, 3\n",
            "DE, Germany, 1\n",
            "DK, Denmark, 1\n",
            "EG, Egypt, 4\n",
            "FR, France, 1\n",
            "IL, Israel, 4\n",
            "IN, India, 3\n",
            "IT, Italy, 1\n",
            "JP, Japan, 3\n",
            "KW, Kuwait, 4\n",
            "ML, Malaysia, 3\n",
            "MX, Mexico, 2\n",
            "NG, Nigeria, 4\n",
            "NL, Netherlands, 1\n",
            "SG, Singapore, 3\n",
            "UK, 'United Kingdom', 1\n",
            "US, 'United States of America', 2\n",
            "ZM, Zambia, 4\n",
            "ZW, Zimbabwe, 4\n",
            "ID, Negara Kesatuan Republik Indonesia, 3\n",
            "ZL, New Zealand, 1\n",
            "Processed 28 lines include header.\n"
          ]
        }
      ]
    },
    {
      "cell_type": "code",
      "source": [
        "update_file('countries.csv', 'ZL', 0, 'NZ')"
      ],
      "metadata": {
        "colab": {
          "base_uri": "https://localhost:8080/"
        },
        "id": "8R5Fx_VDR9Sf",
        "outputId": "8a572dfb-aada-4afd-d3f8-21858314fb61"
      },
      "execution_count": 103,
      "outputs": [
        {
          "output_type": "stream",
          "name": "stdout",
          "text": [
            "Updated 1 line.\n"
          ]
        }
      ]
    },
    {
      "cell_type": "code",
      "source": [
        "read_file('countries.csv')"
      ],
      "metadata": {
        "colab": {
          "base_uri": "https://localhost:8080/"
        },
        "id": "rTrzCs31SAwL",
        "outputId": "b2f61e21-1550-451f-c030-239ff653fae9"
      },
      "execution_count": 104,
      "outputs": [
        {
          "output_type": "stream",
          "name": "stdout",
          "text": [
            "Column names:\n",
            "country_id, country_name, region_id\n",
            "AR, Argentina, 2\n",
            "AU, Australia, 3\n",
            "BE, Belgium, 1\n",
            "BR, Brazil, 2\n",
            "CA, Canada, 2\n",
            "CH, Switzerland, 1\n",
            "CN, China, 3\n",
            "DE, Germany, 1\n",
            "DK, Denmark, 1\n",
            "EG, Egypt, 4\n",
            "FR, France, 1\n",
            "IL, Israel, 4\n",
            "IN, India, 3\n",
            "IT, Italy, 1\n",
            "JP, Japan, 3\n",
            "KW, Kuwait, 4\n",
            "ML, Malaysia, 3\n",
            "MX, Mexico, 2\n",
            "NG, Nigeria, 4\n",
            "NL, Netherlands, 1\n",
            "SG, Singapore, 3\n",
            "UK, 'United Kingdom', 1\n",
            "US, 'United States of America', 2\n",
            "ZM, Zambia, 4\n",
            "ZW, Zimbabwe, 4\n",
            "ID, Negara Kesatuan Republik Indonesia, 3\n",
            "NZ, New Zealand, 1\n",
            "Processed 28 lines include header.\n"
          ]
        }
      ]
    },
    {
      "cell_type": "code",
      "source": [
        "def delete_file(csv_file_name, keyword):\n",
        "  rows = []\n",
        "  found = False\n",
        "  with open(csv_path + csv_file_name, mode='r') as csv_file:\n",
        "    csv_reader = csv.reader(csv_file)\n",
        "    for row in csv_reader:\n",
        "      rows.append(row)\n",
        "\n",
        "  with open(csv_path + csv_file_name, mode='w', newline='') as csv_file:\n",
        "    csv_writer = csv.writer(csv_file)\n",
        "    for row in rows:\n",
        "      if row[0] != keyword:\n",
        "        csv_writer.writerow(row)\n",
        "      else:\n",
        "        found = True\n",
        "\n",
        "  if found:\n",
        "    print('Updated 1 line.')\n",
        "  else:\n",
        "    print('No lines updated.')"
      ],
      "metadata": {
        "id": "jzq3ksMQShbM"
      },
      "execution_count": 105,
      "outputs": []
    },
    {
      "cell_type": "code",
      "source": [
        "delete_file('countries.csv', 'NZ')"
      ],
      "metadata": {
        "colab": {
          "base_uri": "https://localhost:8080/"
        },
        "id": "4-YcA3ToSjMj",
        "outputId": "a2eb8b81-562f-48b0-a2c5-4efcf68bf882"
      },
      "execution_count": 106,
      "outputs": [
        {
          "output_type": "stream",
          "name": "stdout",
          "text": [
            "Updated 1 line.\n"
          ]
        }
      ]
    },
    {
      "cell_type": "code",
      "source": [
        "read_file('countries.csv')"
      ],
      "metadata": {
        "colab": {
          "base_uri": "https://localhost:8080/"
        },
        "id": "u8sBb8mVSmLM",
        "outputId": "bb197734-2a46-43fc-cb11-3ad3726be049"
      },
      "execution_count": 107,
      "outputs": [
        {
          "output_type": "stream",
          "name": "stdout",
          "text": [
            "Column names:\n",
            "country_id, country_name, region_id\n",
            "AR, Argentina, 2\n",
            "AU, Australia, 3\n",
            "BE, Belgium, 1\n",
            "BR, Brazil, 2\n",
            "CA, Canada, 2\n",
            "CH, Switzerland, 1\n",
            "CN, China, 3\n",
            "DE, Germany, 1\n",
            "DK, Denmark, 1\n",
            "EG, Egypt, 4\n",
            "FR, France, 1\n",
            "IL, Israel, 4\n",
            "IN, India, 3\n",
            "IT, Italy, 1\n",
            "JP, Japan, 3\n",
            "KW, Kuwait, 4\n",
            "ML, Malaysia, 3\n",
            "MX, Mexico, 2\n",
            "NG, Nigeria, 4\n",
            "NL, Netherlands, 1\n",
            "SG, Singapore, 3\n",
            "UK, 'United Kingdom', 1\n",
            "US, 'United States of America', 2\n",
            "ZM, Zambia, 4\n",
            "ZW, Zimbabwe, 4\n",
            "ID, Negara Kesatuan Republik Indonesia, 3\n",
            "Processed 27 lines include header.\n"
          ]
        }
      ]
    }
  ]
}